{
 "cells": [
  {
   "cell_type": "code",
   "execution_count": null,
   "id": "0b5d25ca",
   "metadata": {
    "cellId": "3fs1irfcf97qhy7dawdo",
    "scrolled": true
   },
   "outputs": [],
   "source": [
    "# !python3.8 -m pip install openai"
   ]
  },
  {
   "cell_type": "code",
   "execution_count": null,
   "id": "5ae6df60",
   "metadata": {
    "cellId": "4e59o6skz3bwxajx39fj5"
   },
   "outputs": [],
   "source": [
    "import openai\n",
    "import pandas as pd\n",
    "from openai.error import RateLimitError, ServiceUnavailableError, APIError\n",
    "from tqdm.notebook import tqdm\n",
    "import time\n",
    "import sys\n",
    "import logging"
   ]
  },
  {
   "cell_type": "code",
   "execution_count": null,
   "id": "8628be57",
   "metadata": {
    "cellId": "a0xtfmu2uzm2ncc7cq07rf"
   },
   "outputs": [],
   "source": [
    "logger = logging.getLogger(__name__)\n",
    "file_handler = logging.FileHandler('api_requests.log')\n",
    "formatter = logging.Formatter(\n",
    "    '%(asctime)s: %(message)s'\n",
    ")\n",
    "file_handler.setFormatter(formatter)\n",
    "logger.setLevel(logging.INFO)\n",
    "logger.addHandler(file_handler)"
   ]
  },
  {
   "cell_type": "code",
   "execution_count": null,
   "id": "73aa4ff8",
   "metadata": {
    "cellId": "ij7c9nezqhhccdhc7oy"
   },
   "outputs": [],
   "source": [
    "logger.info(\"{} | {} | {} | {}\".format('sent_text', 'responsed_text', 'tokens_spent', 'total_tokens_spent'))"
   ]
  },
  {
   "cell_type": "code",
   "execution_count": null,
   "id": "d85f7847",
   "metadata": {
    "cellId": "ef9szhierqgbe2hv0rbdbo"
   },
   "outputs": [],
   "source": [
    "with open('token.txt') as f:\n",
    "    openai.api_key = f.read()"
   ]
  },
  {
   "cell_type": "code",
   "execution_count": null,
   "id": "40627d3e",
   "metadata": {
    "cellId": "e8pbrtslhklrx8i973xep"
   },
   "outputs": [],
   "source": [
    "with open('organisation_key.txt') as f:\n",
    "    openai.organization = f.read()"
   ]
  },
  {
   "cell_type": "code",
   "execution_count": null,
   "id": "c27b068c",
   "metadata": {
    "cellId": "njg6zwd4iirkse734f7zpb",
    "scrolled": true
   },
   "outputs": [],
   "source": [
    "# openai.Engine.list()"
   ]
  },
  {
   "cell_type": "code",
   "execution_count": null,
   "id": "25ab38da",
   "metadata": {
    "cellId": "tzbuxi632sizchy4vtmgb"
   },
   "outputs": [],
   "source": [
    "dataset = pd.read_csv('cleaned_prompts.tsv', sep='\\t')\n",
    "dataset = dataset[~dataset.content.isna()]\n",
    "dataset = dataset[~dataset.content.duplicated()].reset_index(drop=True)"
   ]
  },
  {
   "cell_type": "code",
   "execution_count": null,
   "id": "52a6d253",
   "metadata": {
    "cellId": "v8knhuewlrlffteqoekhel"
   },
   "outputs": [],
   "source": [
    "def generate_description(prompt):\n",
    "    return \"\"\"\n",
    "You will be given prompt that was used for image generation in Stable Diffusion discord channel. These prompts contain a lot of keywords like \"high resoultion\", \"4k\", \"3d rendering\", etc which do not describe some instance on the picture. You have to write an image description based on this prompt. It should be only description of general object on the picture without any extended details, just description of an instance on picture. If you can’t distinguish general object (e.g., there is only concept or incomprehensible text in the prompt or just random characters like \"vnj vdf asdo 12\"), you have to answer “_no_object”. If the prompt already contains image description, just return it. You need to only do this thing and return image description without trying to write anything else.\n",
    "Examples:\n",
    "\n",
    "Prompt:city, detailed, 8 k, ultra - detailed,\n",
    "Asnwer:a city\n",
    "\n",
    "Prompt:city night photo like in 1 9 9 1 year very realistic _ high detailed\n",
    "Answer:a night city\n",
    "\n",
    "Prompt:a poster of fifa world cup 2022\n",
    "Asnwer:a poster of fifa world cup 2022\n",
    "\n",
    "Prompt:moon by romero britto and picasso\n",
    "Asnwer:a moon\n",
    "\n",
    "Prompt:a photorealistic image of a cat, trending on artstation, cinematic lightning\n",
    "Answer:a cat\n",
    "\n",
    "Prompt:a dog\n",
    "Answer:a dog\n",
    "\n",
    "Prompt:surprise me\n",
    "Answer:_no_object\n",
    "\n",
    "Prompt:big city, at night, bright moon, renaissance portrait, higt realist, gradient colors, buildings with bright lights, people walking, bright colors\n",
    "Answer:a big city at night with bright moon, buildings with bright lights, people walking\n",
    "\n",
    "Prompt:com\n",
    "Answer:_no_object\n",
    "\n",
    "Prompt:lions, savanna, 38 mm film, photo\n",
    "Answer:lions in savanna\n",
    "\n",
    "Prompt:portrait of a black man, highly detailed, hyper realistic, cinematic, 8k, afro culture, love, peace, soul, resilient, dreams, snakes\n",
    "Answer:a black man\n",
    "\n",
    "Prompt:{}\n",
    "Answer:\"\"\".format(prompt)"
   ]
  },
  {
   "cell_type": "code",
   "execution_count": null,
   "id": "bab74b45",
   "metadata": {
    "cellId": "0yk3bfirwwp9e0fbtevx1"
   },
   "outputs": [],
   "source": [
    "total_tokens = 0"
   ]
  },
  {
   "cell_type": "code",
   "execution_count": null,
   "id": "66401fc3",
   "metadata": {
    "cellId": "yhab1kf2wxd5bpg86s2jrh"
   },
   "outputs": [],
   "source": [
    "prompts_to_descr = dict()"
   ]
  },
  {
   "cell_type": "code",
   "execution_count": null,
   "id": "9fc0a288",
   "metadata": {
    "cellId": "7hxdxtdvz93k1p5gx5la6q"
   },
   "outputs": [],
   "source": []
  },
  {
   "cell_type": "code",
   "execution_count": null,
   "id": "bbe3cdde",
   "metadata": {
    "cellId": "oron1bms36qya1o4q1ejw",
    "execution_id": "0944be1b-182b-44a1-9c8f-b200a5855b2d"
   },
   "outputs": [],
   "source": [
    "it = iter(tqdm(dataset.content.values))\n",
    "flag = True\n",
    "while True:\n",
    "    try:\n",
    "        if flag:\n",
    "            string = next(it)\n",
    "        if string in prompts_to_descr:\n",
    "            continue\n",
    "        response = openai.Completion.create(\n",
    "            model=\"text-davinci-003\",\n",
    "            prompt=generate_description(string),\n",
    "            temperature=0.5,\n",
    "            max_tokens=2300\n",
    "        )\n",
    "        image_description = response['choices'][0]['text']\n",
    "        tokens = response['usage']['total_tokens']\n",
    "        total_tokens += tokens\n",
    "        prompts_to_descr[string] = image_description\n",
    "        logger.info(\"{} | {} | {} | {}\".format(string, image_description, str(tokens), str(total_tokens)))\n",
    "        print(\"total tokens: {}, money spent: ${}\".format(total_tokens, total_tokens/1000*0.02))\n",
    "        flag = True\n",
    "    except (RateLimitError, ServiceUnavailableError, APIError):\n",
    "        flag = False\n",
    "        time.sleep(1.0)\n",
    "        continue\n",
    "    except StopIteration:\n",
    "        break"
   ]
  },
  {
   "cell_type": "code",
   "execution_count": null,
   "id": "ec9bf0ac",
   "metadata": {
    "cellId": "1rgf8fx99le34uu7ntrcxh"
   },
   "outputs": [],
   "source": [
    "prompts = []\n",
    "image_descriptions = []\n",
    "for prompt in prompts_to_descr:\n",
    "    img_descr = prompts_to_descr[prompt]\n",
    "    prompts.append(prompt)\n",
    "    image_descriptions.append(img_descr)\n",
    "res_df = pd.DataFrame({'prompt': prompts, 'image_description': image_descriptions})\n",
    "res_df.to_csv('model_answers.csv', index=False)\n",
    "res_df"
   ]
  },
  {
   "cell_type": "code",
   "execution_count": null,
   "id": "14a56f68",
   "metadata": {
    "cellId": "n6ragmsmf8d9bufujixb58"
   },
   "outputs": [],
   "source": [
    "res_df[res_df.image_description=='_no_object'].to_csv('only_with_description.csv', index=False)"
   ]
  }
 ],
 "metadata": {
  "kernelspec": {
   "display_name": "Python 3",
   "language": "python",
   "name": "python3"
  },
  "language_info": {
   "codemirror_mode": {
    "name": "ipython",
    "version": 3
   },
   "file_extension": ".py",
   "mimetype": "text/x-python",
   "name": "python",
   "nbconvert_exporter": "python",
   "pygments_lexer": "ipython3",
   "version": "3.8.8"
  },
  "notebookId": "50a3df13-722f-4fc9-920e-2ac8b5ff8851",
  "notebookPath": "02_label_prompts_gpt.ipynb"
 },
 "nbformat": 4,
 "nbformat_minor": 5
}
