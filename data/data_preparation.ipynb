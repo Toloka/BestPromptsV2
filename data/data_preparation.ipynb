{
 "cells": [
  {
   "cell_type": "code",
   "execution_count": null,
   "id": "bdab98cb",
   "metadata": {},
   "outputs": [],
   "source": [
    "!python3.8 -m pip install jellyfish"
   ]
  },
  {
   "cell_type": "code",
   "execution_count": null,
   "id": "3ec18519",
   "metadata": {},
   "outputs": [],
   "source": [
    "!python3.8 -m pip install demoji"
   ]
  },
  {
   "cell_type": "code",
   "execution_count": null,
   "id": "17176931",
   "metadata": {},
   "outputs": [],
   "source": [
    "from os import listdir\n",
    "import pandas as pd\n",
    "import re\n",
    "import jellyfish\n",
    "import demoji\n",
    "from tqdm.notebook import tqdm\n",
    "\n",
    "import warnings\n",
    "warnings.filterwarnings('ignore')"
   ]
  },
  {
   "cell_type": "code",
   "execution_count": null,
   "id": "9f3b89ef",
   "metadata": {},
   "outputs": [],
   "source": [
    "raw_files_folder = 'sd_dreambots_dotnet_raw_output'\n",
    "raw_discord_files = listdir(raw_files_folder)\n",
    "raw_discord_df_list = list()\n",
    "for i, raw_filename in enumerate(raw_discord_files):\n",
    "    df = pd.read_csv(raw_files_folder + '/' + raw_filename)\n",
    "    df['Channel'] = 'dreambot-' + str(i+1)\n",
    "    raw_discord_df_list.append(df)"
   ]
  },
  {
   "cell_type": "code",
   "execution_count": null,
   "id": "136023bb",
   "metadata": {},
   "outputs": [],
   "source": [
    "all_channels_raw_df = pd.concat(raw_discord_df_list).reset_index(drop=True)\n",
    "all_channels_raw_df.columns = [x.lower() for x in all_channels_raw_df.columns]\n",
    "all_channels_raw_df"
   ]
  },
  {
   "cell_type": "code",
   "execution_count": null,
   "id": "bd742c2b",
   "metadata": {},
   "outputs": [],
   "source": [
    "all_channels_raw_df.info()"
   ]
  },
  {
   "cell_type": "code",
   "execution_count": null,
   "id": "f33f4fb9",
   "metadata": {},
   "outputs": [],
   "source": [
    "all_channels_raw_df = all_channels_raw_df[all_channels_raw_df.content.notna()]\n",
    "all_channels_raw_df.info()"
   ]
  },
  {
   "cell_type": "markdown",
   "id": "c7c194a5",
   "metadata": {},
   "source": [
    "\"Dreamt\" is a successful execution. \"Dreaming\" is when a person sends a request and this thing shows that the process has started. We don't need the rest"
   ]
  },
  {
   "cell_type": "code",
   "execution_count": null,
   "id": "8a4b4454",
   "metadata": {},
   "outputs": [],
   "source": [
    "only_dreamt = all_channels_raw_df[\n",
    "    all_channels_raw_df.content.apply(lambda x: x.split()[0])=='Dreamt'\n",
    "].reset_index(drop=True)"
   ]
  },
  {
   "cell_type": "markdown",
   "id": "58073dfe",
   "metadata": {},
   "source": [
    "In case of very sexual content bot drops warning 'There were naughty dreams that had to be popped'"
   ]
  },
  {
   "cell_type": "code",
   "execution_count": null,
   "id": "92ccfe1b",
   "metadata": {},
   "outputs": [],
   "source": [
    "len(only_dreamt)"
   ]
  },
  {
   "cell_type": "code",
   "execution_count": null,
   "id": "28952ee7",
   "metadata": {},
   "outputs": [],
   "source": [
    "only_dreamt.content.apply(\n",
    "    lambda x: ('There were naughty dreams that had to be popped' in x)\n",
    ").sum()"
   ]
  },
  {
   "cell_type": "code",
   "execution_count": null,
   "id": "dfea6812",
   "metadata": {},
   "outputs": [],
   "source": [
    "only_dreamt.content.apply(\n",
    "    lambda x: ('There were naughty dreams that had to be popped' in x) and ('sex' not in x)\n",
    ").sum()"
   ]
  },
  {
   "cell_type": "code",
   "execution_count": null,
   "id": "4eb1d5f6",
   "metadata": {},
   "outputs": [],
   "source": [
    "only_dreamt.content.apply(\n",
    "    lambda x: ('There were naughty dreams that had to be popped' in x) or ('sex' in x)\n",
    ").sum()"
   ]
  },
  {
   "cell_type": "code",
   "execution_count": null,
   "id": "b93af54b",
   "metadata": {},
   "outputs": [],
   "source": [
    "only_dreamt = only_dreamt[\n",
    "    ~only_dreamt.content.apply(\n",
    "        lambda x: ('There were naughty dreams that had to be popped' in x) or ('sex' in x)\n",
    "    )\n",
    "].reset_index(drop=True)"
   ]
  },
  {
   "cell_type": "code",
   "execution_count": null,
   "id": "5ee889a8",
   "metadata": {},
   "outputs": [],
   "source": [
    "len(only_dreamt)"
   ]
  },
  {
   "cell_type": "code",
   "execution_count": null,
   "id": "713769c2",
   "metadata": {},
   "outputs": [],
   "source": [
    "only_dreamt.content.apply(lambda x: x.split('/dream prompt:')).apply(len).value_counts()"
   ]
  },
  {
   "cell_type": "markdown",
   "id": "31fbbfec",
   "metadata": {},
   "source": [
    "It can be seen that there is usually one prompt in the messages (i.e. a list of length 2). We will leave only these messages"
   ]
  },
  {
   "cell_type": "code",
   "execution_count": null,
   "id": "f1986225",
   "metadata": {},
   "outputs": [],
   "source": [
    "only_dreamt = only_dreamt[\n",
    "    only_dreamt.content.apply(lambda x: x.split('/dream prompt:')).apply(len) == 2\n",
    "].reset_index(drop=True)"
   ]
  },
  {
   "cell_type": "code",
   "execution_count": null,
   "id": "cb85d007",
   "metadata": {},
   "outputs": [],
   "source": [
    "only_dreamt"
   ]
  },
  {
   "cell_type": "markdown",
   "id": "be0d43d4",
   "metadata": {},
   "source": [
    "Most messages contain one line that says 'for @' (indicating the author). Cases where this substring is missing or there are multiple instances will not be considered."
   ]
  },
  {
   "cell_type": "code",
   "execution_count": null,
   "id": "19d1fd02",
   "metadata": {},
   "outputs": [],
   "source": [
    "only_dreamt.content.apply(lambda x: x.split('for @')).apply(len).value_counts()"
   ]
  },
  {
   "cell_type": "code",
   "execution_count": null,
   "id": "defb0463",
   "metadata": {},
   "outputs": [],
   "source": [
    "only_dreamt.content.sample(3).values"
   ]
  },
  {
   "cell_type": "code",
   "execution_count": null,
   "id": "62cb7cf6",
   "metadata": {},
   "outputs": [],
   "source": [
    "only_dreamt = only_dreamt[only_dreamt.content.apply(lambda x: x.split('for @')).apply(len)==2]\n",
    "only_dreamt['username'] = only_dreamt.content.apply(lambda x: x.split('for @')[1].split('... ')[0])\n",
    "only_dreamt.content = only_dreamt.content.apply(lambda x: x.split('/dream prompt:')[1][:-1])\n",
    "only_dreamt.content = only_dreamt.content.apply(lambda x: x.split('negative_prompt:')[0])"
   ]
  },
  {
   "cell_type": "markdown",
   "id": "e8a6e1a9",
   "metadata": {},
   "source": [
    "Removing arguments for models and WARNINGs"
   ]
  },
  {
   "cell_type": "code",
   "execution_count": null,
   "id": "1cde7751",
   "metadata": {},
   "outputs": [],
   "source": [
    "only_dreamt.content = only_dreamt.content.apply(lambda x: re.sub(' [^ ]*:.*', '', x))\n",
    "only_dreamt.content = only_dreamt.content.apply(lambda x: x.split('\\n**WARNING:**')[0])"
   ]
  },
  {
   "cell_type": "code",
   "execution_count": null,
   "id": "6a1c230c",
   "metadata": {},
   "outputs": [],
   "source": [
    "only_dreamt.date = only_dreamt.date.apply(pd.to_datetime)"
   ]
  },
  {
   "cell_type": "code",
   "execution_count": null,
   "id": "991145d5",
   "metadata": {},
   "outputs": [],
   "source": [
    "filtered = only_dreamt.copy().reset_index(drop=True)"
   ]
  },
  {
   "cell_type": "markdown",
   "id": "eaf7c2dd",
   "metadata": {},
   "source": [
    "Remove duplicates"
   ]
  },
  {
   "cell_type": "code",
   "execution_count": null,
   "id": "67398043",
   "metadata": {},
   "outputs": [],
   "source": [
    "filtered = filtered[~filtered['content'].duplicated()].reset_index(drop=True)"
   ]
  },
  {
   "cell_type": "code",
   "execution_count": null,
   "id": "f93de487",
   "metadata": {},
   "outputs": [],
   "source": [
    "filtered"
   ]
  },
  {
   "cell_type": "markdown",
   "id": "106e2f29",
   "metadata": {},
   "source": [
    "Users often try different prompts for one picture. This happens within a few minutes/hours: they make small modifications and send the message again. The instance on the picture does not change. It is logical to find such messages and leave one of these similar ones (the latest one), so that later we won't spend money on extra labeling"
   ]
  },
  {
   "cell_type": "code",
   "execution_count": null,
   "id": "1d60e629",
   "metadata": {},
   "outputs": [],
   "source": [
    "filtered.sort_values(by=['username', 'date'], ascending=False)"
   ]
  },
  {
   "cell_type": "code",
   "execution_count": null,
   "id": "9245bf08",
   "metadata": {},
   "outputs": [],
   "source": [
    "time_window = pd.Timedelta(hours=1)\n",
    "similarity_threshold = 0.6\n",
    "\n",
    "filtered_similar = pd.DataFrame(columns=filtered.columns)\n",
    "\n",
    "for row in tqdm(filtered.sort_values(by=['username', 'date'], ascending=False).iterrows(), total=len(filtered)):\n",
    "    row = row[1]\n",
    "    user_rows = filtered_similar[filtered_similar.username == row.username]\n",
    "    recent_user_rows = user_rows[user_rows.date.apply(lambda x: (x - row.date) < time_window)]\n",
    "    if len(recent_user_rows) and max(\n",
    "            recent_user_rows.content.apply(lambda x: jellyfish.jaro_distance(x, row.content))\n",
    "        ) > similarity_threshold:\n",
    "        continue\n",
    "        \n",
    "    filtered_similar = filtered_similar.append(pd.DataFrame([row]))"
   ]
  },
  {
   "cell_type": "code",
   "execution_count": null,
   "id": "83bee401",
   "metadata": {},
   "outputs": [],
   "source": [
    "filtered_similar = filtered_similar.reset_index(drop=True)"
   ]
  },
  {
   "cell_type": "code",
   "execution_count": null,
   "id": "56043e38",
   "metadata": {},
   "outputs": [],
   "source": [
    "filtered_similar.content[\n",
    "    filtered_similar.content.apply(lambda x: x.lower().startswith('prompt'))\n",
    "] = filtered_similar.content[\n",
    "    filtered_similar.content.apply(lambda x: x.lower().startswith('prompt'))\n",
    "].apply(lambda x: x[6:])"
   ]
  },
  {
   "cell_type": "code",
   "execution_count": null,
   "id": "da45a89d",
   "metadata": {},
   "outputs": [],
   "source": [
    "filtered_similar.content = filtered_similar.content.apply(lambda x: x.split('negative prompt')[0])\n",
    "filtered_similar.content = filtered_similar.content.apply(lambda x: x.split('negative _ prompt')[0])\n",
    "filtered_similar.content = filtered_similar.content.apply(lambda x: x.split('negative_prompt')[0])"
   ]
  },
  {
   "cell_type": "code",
   "execution_count": null,
   "id": "54e5a67e",
   "metadata": {},
   "outputs": [],
   "source": [
    "filtered_similar.content[\n",
    "    filtered_similar.content.apply(lambda x: x.endswith('seed') and len(x.split('seed'))==2)\n",
    "] = filtered_similar.content[\n",
    "    filtered_similar.content.apply(lambda x: x.endswith('seed') and len(x.split('seed'))==2)\n",
    "].apply(lambda x: x.split('seed')[0])\n",
    "\n",
    "filtered_similar.content[\n",
    "    filtered_similar.content.apply(lambda x: 'cfg _ scale' in x)\n",
    "] = filtered_similar.content[\n",
    "    filtered_similar.content.apply(lambda x: 'cfg _ scale' in x)\n",
    "].apply(lambda x: x.split('cfg _ scale')[0])\n",
    "\n",
    "# -- often used for args at the end of string, but sometimes these args are in the middle.\n",
    "filtered_similar = filtered_similar[\n",
    "    ~filtered_similar.content.apply(lambda x: '--' in x and len(x.split('--')[1])>20)\n",
    "]\n",
    "\n",
    "# now let's remove these args from the end of the string\n",
    "filtered_similar.content = filtered_similar.content.apply(lambda x: x.split('--')[0])\n",
    "\n",
    "filtered_similar.content = filtered_similar.content.apply(lambda x: demoji.replace(x, ''))"
   ]
  },
  {
   "cell_type": "code",
   "execution_count": null,
   "id": "37f75d45",
   "metadata": {},
   "outputs": [],
   "source": [
    "def all_non_ascii(string):\n",
    "    for s in string:\n",
    "        if (s not in ' .,\"-\\'!–/;&?') and (not s.isdigit()) and s.isascii():\n",
    "            return False\n",
    "    return True\n",
    "filtered_similar = filtered_similar[~filtered_similar.content.apply(all_non_ascii)]\n",
    "\n",
    "def all_not_alpha(string):\n",
    "    for s in string:\n",
    "        if (s not in ' .,\"-\\'!–/;&?') and (not s.isdigit()) and s.isalpha():\n",
    "            return False\n",
    "    return True\n",
    "filtered_similar = filtered_similar[~filtered_similar.content.apply(all_not_alpha)].reset_index(drop=True)"
   ]
  },
  {
   "cell_type": "code",
   "execution_count": null,
   "id": "1470cead",
   "metadata": {},
   "outputs": [],
   "source": [
    "filtered_similar = filtered_similar[~filtered_similar.content.apply(lambda x: 'http' in x)]\n",
    "filtered_similar.content = filtered_similar.content.apply(\n",
    "    lambda x: x.replace('(', '').replace(')', '')\\\n",
    "    .replace('[', '').replace(']', '').replace('{', '').replace('}', '').replace('|', '')\n",
    ")"
   ]
  },
  {
   "cell_type": "code",
   "execution_count": null,
   "id": "c99d657c",
   "metadata": {},
   "outputs": [],
   "source": [
    "def suspicious_string(string):\n",
    "    for s in string:\n",
    "        if (s not in ' .,\"-\\'!–/;&?+*_#|') and (not s.isdigit()) and (not s.isalpha()):\n",
    "            return True\n",
    "    return False\n",
    "\n",
    "tmp = filtered_similar.content[filtered_similar.content.apply(suspicious_string)]\n",
    "print(len(tmp))\n",
    "filtered_similar = filtered_similar[~filtered_similar.content.apply(suspicious_string)]"
   ]
  },
  {
   "cell_type": "code",
   "execution_count": null,
   "id": "9a0f2290",
   "metadata": {},
   "outputs": [],
   "source": [
    "# glue digits, e.g. \"1 9 5 5 s\" -> \"1995s\", \"4 k\" -> \"4k\", \"3 d\" -> \"3d\"\n",
    "filtered_similar.content = filtered_similar.content.apply(\n",
    "    lambda x: re.sub('(?<=\\d)\\s(?=\\d|[KkdDs][^\\w]|[KkdDs]$)', '', x)\n",
    ")\n",
    "# \"word , word\" -> \"word, word\"\n",
    "filtered_similar.content = filtered_similar.content.apply(\n",
    "    lambda x: re.sub('\\s,', ',', x)\n",
    ")\n",
    "# \"word   word\" -> \"word word\"\n",
    "filtered_similar.content = filtered_similar.content.apply(\n",
    "    lambda x: re.sub('\\s+', ' ', x)\n",
    ")"
   ]
  },
  {
   "cell_type": "code",
   "execution_count": null,
   "id": "77de4fc1",
   "metadata": {},
   "outputs": [],
   "source": [
    "def has_non_ascii(string):\n",
    "    for s in string:\n",
    "        if (s not in ' .,\"-\\'!–/;&?') and (not s.isdigit()) and (not s.isascii()):\n",
    "            return True\n",
    "    return False\n",
    "print(filtered_similar.content.apply(has_non_ascii).sum())\n",
    "filtered_similar = filtered_similar[~filtered_similar.content.apply(has_non_ascii)]"
   ]
  },
  {
   "cell_type": "code",
   "execution_count": null,
   "id": "8bf4556b",
   "metadata": {},
   "outputs": [],
   "source": [
    "filtered_similar.content = filtered_similar.content.apply(lambda x: x.strip(': =\\'.,\"'))\n",
    "filtered_similar = filtered_similar[\n",
    "    ~filtered_similar.content.apply(lambda x: 'dreamt in' in x)\n",
    "]\n",
    "filtered_similar = filtered_similar[filtered_similar.content.apply(len)>2]\n",
    "filtered_similar = filtered_similar[~filtered_similar.content.apply(lambda x: x.startswith('dreaming for'))]\n",
    "filtered_similar = filtered_similar[~filtered_similar.content.apply(len)<=2].reset_index(drop=True)\n",
    "filtered_similar = filtered_similar[~filtered_similar.content.duplicated()]\n",
    "filtered_similar = filtered_similar.sort_values(by='date').reset_index(drop=True)"
   ]
  },
  {
   "cell_type": "code",
   "execution_count": null,
   "id": "fd17ab09",
   "metadata": {},
   "outputs": [],
   "source": [
    "filtered_similar[['content', 'attachments', 'username']].to_csv('cleaned_prompts.tsv', sep='\\t')"
   ]
  }
 ],
 "metadata": {
  "kernelspec": {
   "display_name": "Python 3",
   "language": "python",
   "name": "python3"
  },
  "language_info": {
   "codemirror_mode": {
    "name": "ipython",
    "version": 3
   },
   "file_extension": ".py",
   "mimetype": "text/x-python",
   "name": "python",
   "nbconvert_exporter": "python",
   "pygments_lexer": "ipython3",
   "version": "3.8.8"
  }
 },
 "nbformat": 4,
 "nbformat_minor": 5
}
